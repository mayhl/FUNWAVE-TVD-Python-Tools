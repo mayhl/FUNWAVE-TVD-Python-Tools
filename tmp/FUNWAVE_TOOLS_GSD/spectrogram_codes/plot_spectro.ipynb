{
 "cells": [
  {
   "cell_type": "code",
   "execution_count": 3,
   "metadata": {},
   "outputs": [],
   "source": [
    "import scipy.signal as sig\n",
    "from scipy.fft import fft\n",
    "import matplotlib.pyplot as plt\n",
    "import numpy as np\n",
    "from matplotlib import cm\n",
    "import os"
   ]
  },
  {
   "cell_type": "code",
   "execution_count": 10,
   "metadata": {},
   "outputs": [],
   "source": [
    "pwd = os.getcwd()\n",
    "fdir = os.path.join(pwd,'FEB_3_outputs_try_2','5_1','sta_0003')\n",
    "sta_01 = np.loadtxt(fdir)\n",
    "eta = sta_01[:,1]*100"
   ]
  },
  {
   "cell_type": "code",
   "execution_count": 11,
   "metadata": {},
   "outputs": [],
   "source": [
    "h = 2.2\n",
    "\n",
    "k_pi = np.pi/h\n",
    "Omega_pi = np.sqrt(9.81*k_pi*np.tanh(k_pi*h))\n",
    "fOmega_pi = Omega_pi/(2*np.pi)\n",
    "\n",
    "k_2 = 2/h\n",
    "Omega_2 = np.sqrt(9.81*k_2*np.tanh(k_2*h))\n",
    "fOmega_2 = Omega_2/(2*np.pi)\n",
    "\n",
    "k_1 = 1/h\n",
    "Omega_1 = np.sqrt(9.81*k_1*np.tanh(k_1*h))\n",
    "fOmega_1 = Omega_1/(2*np.pi)"
   ]
  },
  {
   "cell_type": "code",
   "execution_count": 12,
   "metadata": {},
   "outputs": [],
   "source": [
    "def stft(x, wlen, hop, nfft, fs):\n",
    "#######################################################\n",
    "#              Short-Time Fourier Transform            #\n",
    "#               with MATLAB Implementation             #\n",
    "#                                                      #\n",
    "# Author: M.Sc. Eng. Hristo Zhivomirov        12/21/13 #\n",
    "########################################################\n",
    "# function: [stft, f, t] = stft(x, wlen, hop, nfft, fs)\n",
    "# x - signal in the time domain\n",
    "# wlen - length of the analysis Hamming window\n",
    "# hop - hop size\n",
    "# nfft - number of FFT points\n",
    "# fs - sampling frequency, Hz\n",
    "# stft - STFT matrix (only unique points, time across columns, freq across rows)\n",
    "# f - frequency vector, Hz\n",
    "# t - time vector, s\n",
    "\n",
    "    # represent x as column-vector   \n",
    "    x = np.transpose(x)\n",
    "\n",
    "    # length of the signal\n",
    "    xlen = len(x)\n",
    "\n",
    "    # form a periodic hamming window\n",
    "    win = sig.hamming(wlen)\n",
    "\n",
    "    # stft matrix estimation and preallocation\n",
    "    rown = int(np.ceil((1+nfft)/2))           # calculate the total number of rows\n",
    "    coln = int(1+np.fix((xlen-wlen)/hop))      # calculate the total number of columns\n",
    "    \n",
    "    stft = np.zeros((rown, coln))         # form the stft matrix\n",
    "\n",
    "    # initialize the signal time segment index\n",
    "    indx = 0\n",
    "\n",
    "    # perform STFT\n",
    "    for col in range(coln):\n",
    "        # windowing\n",
    "        xw = x[indx:indx+wlen]*win\n",
    "\n",
    "        # FFT\n",
    "        X = fft(xw, nfft)\n",
    "\n",
    "        # update the stft matrix\n",
    "        stft[:, col] = X[0:rown]\n",
    "\n",
    "        # update the index\n",
    "        indx = indx + hop\n",
    "\n",
    "    # calculate the time and frequency vectors\n",
    "    nts = np.arange(wlen/2,wlen/2+(coln)*hop,hop)\n",
    "    t = np.arange(wlen/2,wlen/2+(coln)*hop,hop)/fs\n",
    "    f = np.arange(0,rown)*fs/nfft\n",
    "   \n",
    "    return stft, f, t,nts\n",
    "\n"
   ]
  },
  {
   "cell_type": "code",
   "execution_count": 13,
   "metadata": {},
   "outputs": [
    {
     "name": "stdout",
     "output_type": "stream",
     "text": [
      "(32,) (32,) (32, 282) (32, 282)\n"
     ]
    },
    {
     "name": "stderr",
     "output_type": "stream",
     "text": [
      "/var/folders/c_/_r0wkzf9559040y16lj66ql9j9b03k/T/ipykernel_39295/1772307236.py:45: ComplexWarning: Casting complex values to real discards the imaginary part\n",
      "  stft[:, col] = X[0:rown]\n",
      "/var/folders/c_/_r0wkzf9559040y16lj66ql9j9b03k/T/ipykernel_39295/3018531053.py:25: RuntimeWarning: divide by zero encountered in log10\n",
      "  s2 = np.log10(sp/sma)\n"
     ]
    }
   ],
   "source": [
    "fLim = [0.005,1]\n",
    "fs = 8\n",
    "p = eta\n",
    "Nft = 256\n",
    "hop = 24\n",
    "\n",
    "sp,fsp,tsp,nts = stft(p, Nft, hop, Nft, fs)\n",
    "\n",
    "nf = len(fsp)\n",
    "fMax = 0.7\n",
    "\n",
    "# define sigmoid (1-tanh((f-f0)*ffact))/2 for frequency correction:\n",
    "f0 = 0.5 \n",
    "wdth = 1/5\n",
    "sgm = 0.5*(1-np.tanh((fsp-f0)/wdth))\n",
    "\n",
    "sp = np.abs(sp)**2;                     # power     \n",
    "\n",
    "# \"rescaling\" to fit sp into the colormap\n",
    "kf = np.argwhere((fsp-fLim[0])*(fsp-fLim[1])<=0)[:,0]\n",
    "fsp = fsp[kf] \n",
    "sp = sp[kf,:]\n",
    "\n",
    "sma = np.max(sp[:])\n",
    "s2 = np.log10(sp/sma)\n",
    "\n",
    "print(np.shape(kf),np.shape(fsp),np.shape(sp),np.shape(s2))"
   ]
  },
  {
   "cell_type": "code",
   "execution_count": 14,
   "metadata": {},
   "outputs": [
    {
     "data": {
      "text/plain": [
       "<matplotlib.colorbar.Colorbar at 0x7fb55fab44f0>"
      ]
     },
     "execution_count": 14,
     "metadata": {},
     "output_type": "execute_result"
    },
    {
     "data": {
      "image/png": "[encoded data removed]",
      "text/plain": [
       "<Figure size 432x288 with 2 Axes>"
      ]
     },
     "metadata": {
      "needs_background": "light"
     },
     "output_type": "display_data"
    }
   ],
   "source": [
    "plt.pcolor(tsp,fsp,s2,cmap=\"jet\")\n",
    "plt.xlabel('time (sec)')\n",
    "plt.ylabel('freq (Hz)')\n",
    "plt.colorbar()"
   ]
  },
  {
   "cell_type": "code",
   "execution_count": 9,
   "metadata": {},
   "outputs": [
    {
     "data": {
      "text/plain": [
       "0.0"
      ]
     },
     "execution_count": 9,
     "metadata": {},
     "output_type": "execute_result"
    }
   ],
   "source": [
    "np.max(s2)"
   ]
  },
  {
   "cell_type": "code",
   "execution_count": null,
   "metadata": {},
   "outputs": [],
   "source": []
  }
 ],
 "metadata": {
  "kernelspec": {
   "display_name": "Python 3 (ipykernel)",
   "language": "python",
   "name": "python3"
  },
  "language_info": {
   "codemirror_mode": {
    "name": "ipython",
    "version": 3
   },
   "file_extension": ".py",
   "mimetype": "text/x-python",
   "name": "python",
   "nbconvert_exporter": "python",
   "pygments_lexer": "ipython3",
   "version": "3.8.12"
  }
 },
 "nbformat": 4,
 "nbformat_minor": 4
}
