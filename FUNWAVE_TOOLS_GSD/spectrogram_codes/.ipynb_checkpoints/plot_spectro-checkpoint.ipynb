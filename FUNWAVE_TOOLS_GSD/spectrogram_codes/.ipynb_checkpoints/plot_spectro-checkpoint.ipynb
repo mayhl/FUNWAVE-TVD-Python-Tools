{
 "cells": [
  {
   "cell_type": "code",
   "execution_count": 14,
   "metadata": {},
   "outputs": [],
   "source": [
    "import matplotlib.pyplot as plt\n",
    "import numpy as np\n",
    "from matplotlib import cm\n",
    "import os\n"
   ]
  },
  {
   "cell_type": "code",
   "execution_count": 15,
   "metadata": {},
   "outputs": [],
   "source": [
    "pwd = os.getcwd()\n",
    "fdir = os.path.join(pwd,'FEB_3_outputs_try_2','5_1','sta_0001')\n",
    "sta_01 = np.loadtxt(fdir)\n",
    "eta = sta_01[:,1]*100"
   ]
  },
  {
   "cell_type": "code",
   "execution_count": 16,
   "metadata": {},
   "outputs": [],
   "source": [
    "h = 2.2\n",
    "\n",
    "k_pi = np.pi/h\n",
    "Omega_pi = np.sqrt(9.81*k_pi*np.tanh(k_pi*h))\n",
    "fOmega_pi = Omega_pi/(2*np.pi)\n",
    "\n",
    "k_2 = 2/h\n",
    "Omega_2 = np.sqrt(9.81*k_2*np.tanh(k_2*h))\n",
    "fOmega_2 = Omega_2/(2*np.pi)\n",
    "\n",
    "k_1 = 1/h\n",
    "Omega_1 = np.sqrt(9.81*k_1*np.tanh(k_1*h))\n",
    "fOmega_1 = Omega_1/(2*np.pi)"
   ]
  },
  {
   "cell_type": "code",
   "execution_count": 29,
   "metadata": {},
   "outputs": [
    {
     "name": "stdout",
     "output_type": "stream",
     "text": [
      "wepa\n"
     ]
    }
   ],
   "source": [
    "def stft(p,fs,nfft,nperseg):\n",
    "    print('wepa')\n",
    "    sp = [np.random.rand(10)*20,np.random.rand(10)*30]\n",
    "    fsp = np.random.rand(10)*10\n",
    "    tsp = np.random.rand(10)*40\n",
    "    return sp,fsp,tsp\n",
    "\n",
    "fLim = [0.005,1]\n",
    "fs = 8\n",
    "p = eta\n",
    "Nft = 256\n",
    "hop = [24]\n",
    "\n",
    "sp,fsp,tsp= stft(p,fs=fs,nfft=Nft,nperseg=Nft)"
   ]
  },
  {
   "cell_type": "code",
   "execution_count": 30,
   "metadata": {},
   "outputs": [],
   "source": [
    "nf=len(fsp)\n",
    "fMax=0.7\n",
    "\n",
    "# define sigmoid (1-tanh((f-f0)*ffact))/2 for frequency correction:\n",
    "f0=0.5 \n",
    "wdth=1/5\n",
    "sgm=0.5*(1-np.tanh((fsp-f0)/wdth))\n",
    "\n",
    "sp=np.abs(sp)**2;                     # power     \n",
    "\n",
    "# \"rescaling\" to fit sp into the colormap\n",
    "kf=np.argwhere((fsp-fLim[0])*(fsp-fLim[1])<=0);\n",
    "fsp=fsp[kf] \n",
    "sp=sp[kf,:]\n",
    "sma=np.max(sp[:])\n",
    "s2=np.log10(sp/sma)"
   ]
  },
  {
   "cell_type": "code",
   "execution_count": 33,
   "metadata": {},
   "outputs": [
    {
     "data": {
      "text/plain": [
       "array([[[-0.7534047 , -0.02368638, -0.15792751, -0.58566941,\n",
       "         -0.09012215, -0.64567292, -0.33452062, -0.07261987,\n",
       "          0.        , -1.49397867]]])"
      ]
     },
     "execution_count": 33,
     "metadata": {},
     "output_type": "execute_result"
    }
   ],
   "source": [
    "s2"
   ]
  },
  {
   "cell_type": "code",
   "execution_count": null,
   "metadata": {},
   "outputs": [],
   "source": []
  }
 ],
 "metadata": {
  "kernelspec": {
   "display_name": "Python 3 (ipykernel)",
   "language": "python",
   "name": "python3"
  },
  "language_info": {
   "codemirror_mode": {
    "name": "ipython",
    "version": 3
   },
   "file_extension": ".py",
   "mimetype": "text/x-python",
   "name": "python",
   "nbconvert_exporter": "python",
   "pygments_lexer": "ipython3",
   "version": "3.8.12"
  }
 },
 "nbformat": 4,
 "nbformat_minor": 4
}
