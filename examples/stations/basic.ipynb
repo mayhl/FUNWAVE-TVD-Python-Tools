{
 "cells": [
  {
   "cell_type": "markdown",
   "id": "c91f259f",
   "metadata": {},
   "source": [
    "# Example of Reading a Station File"
   ]
  },
  {
   "cell_type": "code",
   "execution_count": null,
   "id": "b1827df1",
   "metadata": {},
   "outputs": [],
   "source": [
    "# Importing Stations class\n",
    "from funwavetvdtools.stations import StationData\n",
    "import numpy as np\n",
    "dpath = 'data'\n",
    "\n",
    "# Station FUNWAVE grid indices\n",
    "i, j = 10, 15\n",
    "\n",
    "# Setting up grid\n",
    "N = 20\n",
    "x = np.linspace(0, 5, N)\n",
    "y = np.linspace(0, 5, N)\n",
    "\n",
    "station_number = 1\n",
    "station = StationData.from_file(i, j, x, y, station_number, dpath)"
   ]
  },
  {
   "cell_type": "markdown",
   "id": "9d17a022",
   "metadata": {},
   "source": [
    "## Loading Station File"
   ]
  },
  {
   "cell_type": "code",
   "execution_count": null,
   "id": "235272a6",
   "metadata": {},
   "outputs": [],
   "source": [
    "from funwavetvdtools.stations import Stations\n",
    "import os \n",
    "import numpy as np\n",
    "\n",
    "# Setting up grid\n",
    "N = 20\n",
    "x = np.linspace(0, 5, N)\n",
    "y = np.linspace(0, 5, N)\n",
    "\n",
    "# Path to stations file\n",
    "fpath = os.path.join('data', 'stations.txt')\n",
    "# Path to directory containing station files\n",
    "sta_dpath = 'data'\n",
    "\n",
    "stations = Stations.from_file(fpath, sta_dpath, x , y)"
   ]
  },
  {
   "cell_type": "markdown",
   "id": "f4a07eab",
   "metadata": {},
   "source": [
    "## Updating Grid/Indices\n",
    "### Updates stations location indices with new grid points. For example reinterpolating onto a new grid"
   ]
  },
  {
   "cell_type": "code",
   "execution_count": null,
   "id": "6d92adf8",
   "metadata": {},
   "outputs": [],
   "source": [
    "from funwavetvdtools.stations import Stations, StationData\n",
    "import numpy as np \n",
    "import os\n",
    "\n",
    "N = 20\n",
    "x = np.linspace(0, 5, N)\n",
    "y = np.linspace(0, 5, N)\n",
    "\n",
    "N2 = 40\n",
    "x2 = np.linspace(0, 5, N2)\n",
    "y2 = np.linspace(0, 5, N2)\n",
    "\n",
    "# Path to stations file\n",
    "fpath = os.path.join('data', 'stations.txt')\n",
    "# Path to directory containing station files\n",
    "sta_dpath = 'data'\n",
    "\n",
    "stations = Stations.from_file(fpath, sta_dpath, x , y)\n",
    "\n",
    "print(\"Old Indices: %d, %d\" % stations[0].indices)\n",
    "stations.update_grid(x2, y2)\n",
    "print(\"New Indices: %d, %d\" % stations[0].indices)"
   ]
  }
 ],
 "metadata": {
  "kernelspec": {
   "display_name": "Python 3 (ipykernel)",
   "language": "python",
   "name": "python3"
  },
  "language_info": {
   "codemirror_mode": {
    "name": "ipython",
    "version": 3
   },
   "file_extension": ".py",
   "mimetype": "text/x-python",
   "name": "python",
   "nbconvert_exporter": "python",
   "pygments_lexer": "ipython3",
   "version": "3.8.5"
  }
 },
 "nbformat": 4,
 "nbformat_minor": 5
}
